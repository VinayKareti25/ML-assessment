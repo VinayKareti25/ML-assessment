{
 "cells": [
  {
   "cell_type": "markdown",
   "id": "a6189297",
   "metadata": {},
   "source": [
    "# 02 - Feature Engineering: Healthcare Readmission"
   ]
  },
  {
   "cell_type": "code",
   "execution_count": 1,
   "id": "5492a9b6",
   "metadata": {},
   "outputs": [],
   "source": [
    "\n",
    "import pandas as pd\n",
    "import numpy as np\n",
    "from sklearn.preprocessing import OneHotEncoder, StandardScaler\n",
    "from sklearn.impute import KNNImputer, SimpleImputer\n",
    "from sklearn.compose import ColumnTransformer\n",
    "from sklearn.pipeline import Pipeline\n",
    "import warnings\n",
    "warnings.filterwarnings('ignore')\n",
    "\n",
    "# Load dataset\n",
    "df = pd.read_csv(\"diabetic_data.csv\")\n",
    "df = df.replace('?', np.nan)\n"
   ]
  },
  {
   "cell_type": "code",
   "execution_count": 2,
   "id": "313ec6ae",
   "metadata": {},
   "outputs": [
    {
     "name": "stdout",
     "output_type": "stream",
     "text": [
      "Detected target: readmitted\n"
     ]
    }
   ],
   "source": [
    "\n",
    "target_candidates = [c for c in df.columns if 'readmit' in c.lower() or 'target' in c.lower()]\n",
    "target_col = target_candidates[0] if target_candidates else None\n",
    "if target_col:\n",
    "    print(\"Detected target:\", target_col)\n",
    "else:\n",
    "    raise ValueError(\"❌ Target column not found — please specify manually.\")\n"
   ]
  },
  {
   "cell_type": "code",
   "execution_count": 3,
   "id": "4f4a0f8f",
   "metadata": {},
   "outputs": [],
   "source": [
    "\n",
    "X = df.drop(columns=[target_col], errors='ignore')\n",
    "y = df[target_col].map({'NO':0, '>30':1, '<30':1}).fillna(0).astype(int)\n",
    "X = X.drop(columns=['encounter_id', 'patient_nbr', 'weight', 'payer_code', 'medical_specialty'], errors='ignore')\n"
   ]
  },
  {
   "cell_type": "code",
   "execution_count": 4,
   "id": "6cfa4337",
   "metadata": {},
   "outputs": [
    {
     "name": "stdout",
     "output_type": "stream",
     "text": [
      "Categorical cols: 33 | Numerical cols: 11\n"
     ]
    }
   ],
   "source": [
    "\n",
    "categorical_cols = [c for c in X.columns if X[c].dtype == 'object']\n",
    "numerical_cols = [c for c in X.columns if np.issubdtype(X[c].dtype, np.number)]\n",
    "print(f\"Categorical cols: {len(categorical_cols)} | Numerical cols: {len(numerical_cols)}\")\n"
   ]
  },
  {
   "cell_type": "code",
   "execution_count": 5,
   "id": "a471b3b3",
   "metadata": {},
   "outputs": [
    {
     "name": "stdout",
     "output_type": "stream",
     "text": [
      "✅ Preprocessor created with valid columns.\n"
     ]
    }
   ],
   "source": [
    "\n",
    "from sklearn.preprocessing import OneHotEncoder, StandardScaler\n",
    "from sklearn.impute import SimpleImputer, KNNImputer\n",
    "from sklearn.compose import ColumnTransformer\n",
    "from sklearn.pipeline import Pipeline\n",
    "\n",
    "numeric_transformer = Pipeline(steps=[\n",
    "    ('imputer', KNNImputer(n_neighbors=5)),\n",
    "    ('scaler', StandardScaler())\n",
    "]) if len(numerical_cols) > 0 else 'drop'\n",
    "\n",
    "categorical_transformer = Pipeline(steps=[\n",
    "    ('imputer', SimpleImputer(strategy='most_frequent')),\n",
    "    ('encoder', OneHotEncoder(handle_unknown='ignore'))\n",
    "]) if len(categorical_cols) > 0 else 'drop'\n",
    "\n",
    "transformers = []\n",
    "if len(numerical_cols) > 0:\n",
    "    transformers.append(('num', numeric_transformer, numerical_cols))\n",
    "if len(categorical_cols) > 0:\n",
    "    transformers.append(('cat', categorical_transformer, categorical_cols))\n",
    "\n",
    "preprocessor = ColumnTransformer(transformers=transformers)\n",
    "print(\"✅ Preprocessor created with valid columns.\")\n"
   ]
  },
  {
   "cell_type": "code",
   "execution_count": 6,
   "id": "67dd4a26",
   "metadata": {},
   "outputs": [
    {
     "name": "stdout",
     "output_type": "stream",
     "text": [
      "Transformed feature matrix shape: (101766, 2363)\n",
      "✅ Feature preprocessor saved as feature_preprocessor.pkl\n"
     ]
    }
   ],
   "source": [
    "\n",
    "X_transformed = preprocessor.fit_transform(X)\n",
    "print(\"Transformed feature matrix shape:\", X_transformed.shape)\n",
    "\n",
    "import joblib\n",
    "joblib.dump(preprocessor, \"feature_preprocessor.pkl\")\n",
    "print(\"✅ Feature preprocessor saved as feature_preprocessor.pkl\")\n"
   ]
  },
  {
   "cell_type": "code",
   "execution_count": 7,
   "id": "f8d27a98",
   "metadata": {},
   "outputs": [
    {
     "name": "stdout",
     "output_type": "stream",
     "text": [
      "Accuracy: 0.6387442271789329\n"
     ]
    }
   ],
   "source": [
    "\n",
    "from sklearn.ensemble import RandomForestClassifier\n",
    "from sklearn.model_selection import train_test_split\n",
    "from sklearn.metrics import accuracy_score\n",
    "\n",
    "X_train, X_test, y_train, y_test = train_test_split(X_transformed, y, test_size=0.2, random_state=42)\n",
    "rf = RandomForestClassifier(random_state=42)\n",
    "rf.fit(X_train, y_train)\n",
    "print(\"Accuracy:\", accuracy_score(y_test, rf.predict(X_test)))\n"
   ]
  }
 ],
 "metadata": {
  "kernelspec": {
   "display_name": "venv",
   "language": "python",
   "name": "python3"
  },
  "language_info": {
   "codemirror_mode": {
    "name": "ipython",
    "version": 3
   },
   "file_extension": ".py",
   "mimetype": "text/x-python",
   "name": "python",
   "nbconvert_exporter": "python",
   "pygments_lexer": "ipython3",
   "version": "3.13.7"
  }
 },
 "nbformat": 4,
 "nbformat_minor": 5
}
